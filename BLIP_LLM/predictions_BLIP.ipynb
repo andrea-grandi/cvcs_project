{
 "cells": [
  {
   "cell_type": "code",
   "execution_count": 2,
   "metadata": {},
   "outputs": [],
   "source": [
    "#import requests\n",
    "from PIL import Image, ImageOps\n",
    "from transformers import BlipProcessor, BlipForConditionalGeneration\n",
    "import io\n",
    "import matplotlib.pyplot as plt\n",
    "import torch\n",
    "from torch.utils.data import Dataset, DataLoader\n",
    "from datasets import load_dataset"
   ]
  },
  {
   "cell_type": "code",
   "execution_count": 10,
   "metadata": {},
   "outputs": [
    {
     "name": "stdout",
     "output_type": "stream",
     "text": [
      "Sucessfully loaded processor and model\n"
     ]
    }
   ],
   "source": [
    "device = \"cuda\" if torch.cuda.is_available() else \"cpu\"\n",
    "\n",
    "processor = BlipProcessor.from_pretrained(\"DinoDave/BLIP_finetuned_spatial_relations\")\n",
    "model = BlipForConditionalGeneration.from_pretrained(\"DinoDave/BLIP_finetuned_spatial_relations\").to(device)\n",
    "\n",
    "print(\"Sucessfully loaded processor and model\")"
   ]
  },
  {
   "cell_type": "code",
   "execution_count": 3,
   "metadata": {},
   "outputs": [
    {
     "name": "stderr",
     "output_type": "stream",
     "text": [
      "Downloading readme: 100%|██████████| 24.0/24.0 [00:00<00:00, 93.2kB/s]\n",
      "Downloading data: 100%|██████████| 267/267 [00:11<00:00, 22.44files/s]\n",
      "Generating train split: 100%|██████████| 266/266 [00:00<00:00, 3722.34 examples/s]"
     ]
    },
    {
     "name": "stdout",
     "output_type": "stream",
     "text": [
      "Number of training examples: 239\n",
      "Number of testing examples: 27\n"
     ]
    },
    {
     "name": "stderr",
     "output_type": "stream",
     "text": [
      "\n"
     ]
    }
   ],
   "source": [
    "dataset = load_dataset(\"DinoDave/SpatialRelationsTennis_masked\")\n",
    "\n",
    "train_test_split = dataset['train'].train_test_split(test_size=0.1)\n",
    "\n",
    "# Separate train and test sets\n",
    "train_dataset_raw = train_test_split['train']\n",
    "test_dataset_raw = train_test_split['test']\n",
    "\n",
    "print(\"Number of training examples:\", len(train_dataset_raw))\n",
    "print(\"Number of testing examples:\", len(test_dataset_raw))"
   ]
  },
  {
   "cell_type": "code",
   "execution_count": 4,
   "metadata": {},
   "outputs": [],
   "source": [
    "class ImageCaptioningDataset(Dataset):\n",
    "    def __init__(self, dataset, processor, resize_to=(640, 640)):\n",
    "        self.dataset = dataset\n",
    "        self.processor = processor\n",
    "        self.resize_to = resize_to\n",
    "\n",
    "    def __len__(self):\n",
    "        return len(self.dataset)\n",
    "\n",
    "    def __getitem__(self, idx):\n",
    "        item = self.dataset[idx]\n",
    "        image = item[\"image\"]\n",
    "\n",
    "        # Resize the image\n",
    "        if self.resize_to:\n",
    "            image = image.resize(self.resize_to, Image.LANCZOS)\n",
    "\n",
    "        encoding = self.processor(images=image, text=item[\"text\"], padding=\"max_length\", return_tensors=\"pt\")\n",
    "        # Remove batch dimension\n",
    "        encoding = {k: v.squeeze() for k, v in encoding.items()}\n",
    "        return encoding"
   ]
  },
  {
   "cell_type": "code",
   "execution_count": 11,
   "metadata": {},
   "outputs": [],
   "source": [
    "train_dataset = ImageCaptioningDataset(train_dataset_raw, processor)\n",
    "test_dataset = ImageCaptioningDataset(test_dataset_raw, processor)\n",
    "\n",
    "train_dataloader = DataLoader(train_dataset, batch_size=2, shuffle=True)\n",
    "test_dataloader = DataLoader(test_dataset, batch_size=2, shuffle=True)"
   ]
  },
  {
   "cell_type": "code",
   "execution_count": 12,
   "metadata": {},
   "outputs": [
    {
     "ename": "",
     "evalue": "",
     "output_type": "error",
     "traceback": [
      "\u001b[1;31mThe Kernel crashed while executing code in the current cell or a previous cell. \n",
      "\u001b[1;31mPlease review the code in the cell(s) to identify a possible cause of the failure. \n",
      "\u001b[1;31mClick <a href='https://aka.ms/vscodeJupyterKernelCrash'>here</a> for more info. \n",
      "\u001b[1;31mView Jupyter <a href='command:jupyter.viewOutput'>log</a> for further details."
     ]
    }
   ],
   "source": [
    "# Create a figure with subplots (one column, multiple rows)\n",
    "fig, axes = plt.subplots(len(test_dataset), 1, figsize=(5, 5 * len(test_dataset)))\n",
    "\n",
    "for ax, id in zip(axes, range(len(test_dataset))):\n",
    "    image_raw = test_dataset_raw[id][\"image\"]\n",
    "    #\n",
    "    image = image_raw.resize((640, 640), Image.Resampling.LANCZOS)\n",
    "    inputs = processor(image, return_tensors=\"pt\").to(device)\n",
    "\n",
    "    out = model.generate(**inputs, max_length=50)\n",
    "\n",
    "    ax.imshow(image)\n",
    "    ax.set_title(processor.decode(out[0], skip_special_tokens=True))  # Display the filename as the title\n",
    "    ax.axis('off')  # Hide the axes\n",
    "\n",
    "plt.tight_layout()\n",
    "plt.show()"
   ]
  }
 ],
 "metadata": {
  "kernelspec": {
   "display_name": "blip_env",
   "language": "python",
   "name": "python3"
  },
  "language_info": {
   "codemirror_mode": {
    "name": "ipython",
    "version": 3
   },
   "file_extension": ".py",
   "mimetype": "text/x-python",
   "name": "python",
   "nbconvert_exporter": "python",
   "pygments_lexer": "ipython3",
   "version": "3.1.undefined"
  }
 },
 "nbformat": 4,
 "nbformat_minor": 2
}
