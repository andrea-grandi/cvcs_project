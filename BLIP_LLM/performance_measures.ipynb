{
 "cells": [
  {
   "cell_type": "code",
   "execution_count": null,
   "metadata": {},
   "outputs": [],
   "source": [
    "#import requests\n",
    "from PIL import Image, ImageOps\n",
    "from transformers import BlipProcessor, BlipForConditionalGeneration\n",
    "import io\n",
    "import matplotlib.pyplot as plt\n",
    "import torch\n",
    "from torch.utils.data import Dataset, DataLoader\n",
    "from datasets import load_dataset"
   ]
  },
  {
   "cell_type": "code",
   "execution_count": null,
   "metadata": {},
   "outputs": [],
   "source": [
    "import json\n",
    "from pycocoevalcap.cider.cider import Cider\n",
    "from pycocoevalcap.bleu.bleu import Bleu\n",
    "from pycocoevalcap.rouge.rouge import Rouge\n",
    "from pycocoevalcap.meteor.meteor import Meteor\n",
    "from pycocoevalcap.spice.spice import Spice"
   ]
  },
  {
   "cell_type": "code",
   "execution_count": null,
   "metadata": {},
   "outputs": [],
   "source": [
    "device = \"cuda\" if torch.cuda.is_available() else \"cpu\"\n",
    "\n",
    "processor = BlipProcessor.from_pretrained(\"DinoDave/BLIP_finetuned_spatial_relations\")\n",
    "model = BlipForConditionalGeneration.from_pretrained(\"DinoDave/BLIP_finetuned_spatial_relations\").to(device)\n",
    "\n",
    "print(\"Sucessfully loaded processor and model\")"
   ]
  },
  {
   "cell_type": "code",
   "execution_count": null,
   "metadata": {},
   "outputs": [],
   "source": [
    "dataset = load_dataset(\"DinoDave/SpatialRelationsTennis_masked\")\n",
    "\n",
    "train_test_split = dataset['train'].train_test_split(test_size=0.1)\n",
    "\n",
    "# Separate train and test sets\n",
    "train_dataset_raw = train_test_split['train']\n",
    "test_dataset_raw = train_test_split['test']\n",
    "\n",
    "print(\"Number of training examples:\", len(train_dataset_raw))\n",
    "print(\"Number of testing examples:\", len(test_dataset_raw))"
   ]
  },
  {
   "cell_type": "code",
   "execution_count": null,
   "metadata": {},
   "outputs": [],
   "source": [
    "class ImageCaptioningDataset(Dataset):\n",
    "    def __init__(self, dataset, processor, resize_to=(640, 640)):\n",
    "        self.dataset = dataset\n",
    "        self.processor = processor\n",
    "        self.resize_to = resize_to\n",
    "\n",
    "    def __len__(self):\n",
    "        return len(self.dataset)\n",
    "\n",
    "    def __getitem__(self, idx):\n",
    "        item = self.dataset[idx]\n",
    "        image = item[\"image\"]\n",
    "\n",
    "        # Resize the image\n",
    "        if self.resize_to:\n",
    "            image = image.resize(self.resize_to, Image.LANCZOS)\n",
    "\n",
    "        encoding = self.processor(images=image, text=item[\"text\"], padding=\"max_length\", return_tensors=\"pt\")\n",
    "        # Remove batch dimension\n",
    "        encoding = {k: v.squeeze() for k, v in encoding.items()}\n",
    "        return encoding"
   ]
  },
  {
   "cell_type": "code",
   "execution_count": null,
   "metadata": {},
   "outputs": [],
   "source": [
    "train_dataset = ImageCaptioningDataset(train_dataset_raw, processor)\n",
    "test_dataset = ImageCaptioningDataset(test_dataset_raw, processor)\n",
    "\n",
    "train_dataloader = DataLoader(train_dataset, batch_size=2, shuffle=True)\n",
    "test_dataloader = DataLoader(test_dataset, batch_size=2, shuffle=True)"
   ]
  },
  {
   "cell_type": "code",
   "execution_count": null,
   "metadata": {},
   "outputs": [],
   "source": [
    "generated_captions = []\n",
    "reference_captions = []\n",
    "\n",
    "# Create a figure with subplots (one column, multiple rows)\n",
    "fig, axes = plt.subplots(len(test_dataset), 1, figsize=(5, 5 * len(test_dataset)))\n",
    "\n",
    "for ax, id in zip(axes, range(len(test_dataset))):\n",
    "    image_raw = test_dataset_raw[id][\"image\"]\n",
    "\n",
    "    image = image_raw.resize((640, 640), Image.Resampling.LANCZOS)\n",
    "    inputs = processor(image, return_tensors=\"pt\").to(device)\n",
    "\n",
    "    out = model.generate(**inputs, max_length=50)\n",
    "\n",
    "    caption = processor.decode(out[0], skip_special_tokens=True)\n",
    "    caption_ref = test_dataset_raw[id][\"text\"]\n",
    "\n",
    "    reference_captions.append([str(caption_ref)])\n",
    "    generated_captions.append(str(caption))\n",
    "\n",
    "    ax.imshow(image)\n",
    "    ax.set_title(caption)  # Display the filename as the title\n",
    "    ax.axis('off')  # Hide the axes\n",
    "\n",
    "plt.tight_layout()\n",
    "plt.show()"
   ]
  },
  {
   "cell_type": "code",
   "execution_count": null,
   "metadata": {},
   "outputs": [],
   "source": [
    "gts = {i: reference_captions[i] for i in range(len(reference_captions))}\n",
    "res = {i: [generated_captions[i]] for i in range(len(generated_captions))}\n",
    "\n",
    "scorers = [(Bleu(4), \"BLEU\"), (Meteor(), \"METEOR\"), (Rouge(), \"ROUGE\"), (Cider(), \"CIDEr\"), (Spice(), \"SPICE\")]\n",
    "\n",
    "# Compute and print scores\n",
    "for scorer, method in scorers:\n",
    "    score, scores = scorer.compute_score(gts, res)\n",
    "    if isinstance(score, list):\n",
    "        score_str = \", \".join([f\"{s:.4f}\" for s in score])\n",
    "    else:\n",
    "        score_str = f\"{score:.4f}\"\n",
    "    print(f\"{method}: {score_str}\")"
   ]
  },
  {
   "cell_type": "code",
   "execution_count": null,
   "metadata": {},
   "outputs": [],
   "source": []
  }
 ],
 "metadata": {
  "language_info": {
   "name": "python"
  }
 },
 "nbformat": 4,
 "nbformat_minor": 2
}
