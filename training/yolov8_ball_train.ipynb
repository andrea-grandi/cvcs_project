{
  "nbformat": 4,
  "nbformat_minor": 0,
  "metadata": {
    "colab": {
      "provenance": [],
      "gpuType": "T4"
    },
    "kernelspec": {
      "name": "python3",
      "display_name": "Python 3"
    },
    "language_info": {
      "name": "python"
    },
    "accelerator": "GPU"
  },
  "cells": [
    {
      "cell_type": "code",
      "execution_count": 1,
      "metadata": {
        "colab": {
          "base_uri": "https://localhost:8080/"
        },
        "id": "-KFxqvkxxGp3",
        "outputId": "beef552e-f5c2-4679-9cc3-de6d3f31b218"
      },
      "outputs": [
        {
          "output_type": "stream",
          "name": "stdout",
          "text": [
            "/content\n"
          ]
        }
      ],
      "source": [
        "import os\n",
        "HOME = os.getcwd()\n",
        "print(HOME)"
      ]
    },
    {
      "cell_type": "code",
      "source": [
        "!pip install ultralytics==8.0.196\n",
        "\n",
        "from IPython import display\n",
        "display.clear_output()\n",
        "\n",
        "import ultralytics\n",
        "ultralytics.checks()"
      ],
      "metadata": {
        "colab": {
          "base_uri": "https://localhost:8080/"
        },
        "id": "nMYgExV_xR73",
        "outputId": "a2cebf77-e8e4-4c8e-c7c3-761021cddc90"
      },
      "execution_count": 2,
      "outputs": [
        {
          "output_type": "stream",
          "name": "stderr",
          "text": [
            "Ultralytics YOLOv8.0.196 🚀 Python-3.10.12 torch-2.3.0+cu121 CUDA:0 (Tesla T4, 15102MiB)\n",
            "Setup complete ✅ (2 CPUs, 12.7 GB RAM, 30.2/78.2 GB disk)\n"
          ]
        }
      ]
    },
    {
      "cell_type": "code",
      "source": [
        "from ultralytics import YOLO\n",
        "from IPython.display import display, Image"
      ],
      "metadata": {
        "id": "w8eYKF--xaAr"
      },
      "execution_count": 3,
      "outputs": []
    },
    {
      "cell_type": "code",
      "source": [
        "!mkdir {HOME}/datasets\n",
        "%cd {HOME}/datasets\n",
        "\n",
        "!pip install roboflow\n",
        "\n",
        "from roboflow import Roboflow\n",
        "rf = Roboflow(api_key=\"A1HqGsd7n9GXR5ZyckOQ\")\n",
        "project = rf.workspace(\"viren-dhanwani\").project(\"tennis-ball-detection\")\n",
        "version = project.version(6)\n",
        "dataset = version.download(\"yolov5\")"
      ],
      "metadata": {
        "colab": {
          "base_uri": "https://localhost:8080/"
        },
        "id": "mnj8rYhgxusF",
        "outputId": "6c4787f9-df3e-4c79-9638-1101ac0f8ef8"
      },
      "execution_count": 1,
      "outputs": [
        {
          "output_type": "stream",
          "name": "stdout",
          "text": [
            "mkdir: cannot create directory ‘{HOME}/datasets’: No such file or directory\n",
            "[Errno 2] No such file or directory: '{HOME}/datasets'\n",
            "/content\n",
            "Requirement already satisfied: roboflow in /usr/local/lib/python3.10/dist-packages (1.1.32)\n",
            "Requirement already satisfied: certifi==2023.7.22 in /usr/local/lib/python3.10/dist-packages (from roboflow) (2023.7.22)\n",
            "Requirement already satisfied: chardet==4.0.0 in /usr/local/lib/python3.10/dist-packages (from roboflow) (4.0.0)\n",
            "Requirement already satisfied: cycler==0.10.0 in /usr/local/lib/python3.10/dist-packages (from roboflow) (0.10.0)\n",
            "Requirement already satisfied: idna==2.10 in /usr/local/lib/python3.10/dist-packages (from roboflow) (2.10)\n",
            "Requirement already satisfied: kiwisolver>=1.3.1 in /usr/local/lib/python3.10/dist-packages (from roboflow) (1.4.5)\n",
            "Requirement already satisfied: matplotlib in /usr/local/lib/python3.10/dist-packages (from roboflow) (3.7.1)\n",
            "Requirement already satisfied: numpy>=1.18.5 in /usr/local/lib/python3.10/dist-packages (from roboflow) (1.25.2)\n",
            "Requirement already satisfied: opencv-python-headless==4.8.0.74 in /usr/local/lib/python3.10/dist-packages (from roboflow) (4.8.0.74)\n",
            "Requirement already satisfied: Pillow>=7.1.2 in /usr/local/lib/python3.10/dist-packages (from roboflow) (9.4.0)\n",
            "Requirement already satisfied: python-dateutil in /usr/local/lib/python3.10/dist-packages (from roboflow) (2.8.2)\n",
            "Requirement already satisfied: python-dotenv in /usr/local/lib/python3.10/dist-packages (from roboflow) (1.0.1)\n",
            "Requirement already satisfied: requests in /usr/local/lib/python3.10/dist-packages (from roboflow) (2.31.0)\n",
            "Requirement already satisfied: six in /usr/local/lib/python3.10/dist-packages (from roboflow) (1.16.0)\n",
            "Requirement already satisfied: urllib3>=1.26.6 in /usr/local/lib/python3.10/dist-packages (from roboflow) (2.0.7)\n",
            "Requirement already satisfied: tqdm>=4.41.0 in /usr/local/lib/python3.10/dist-packages (from roboflow) (4.66.4)\n",
            "Requirement already satisfied: PyYAML>=5.3.1 in /usr/local/lib/python3.10/dist-packages (from roboflow) (6.0.1)\n",
            "Requirement already satisfied: requests-toolbelt in /usr/local/lib/python3.10/dist-packages (from roboflow) (1.0.0)\n",
            "Requirement already satisfied: python-magic in /usr/local/lib/python3.10/dist-packages (from roboflow) (0.4.27)\n",
            "Requirement already satisfied: contourpy>=1.0.1 in /usr/local/lib/python3.10/dist-packages (from matplotlib->roboflow) (1.2.1)\n",
            "Requirement already satisfied: fonttools>=4.22.0 in /usr/local/lib/python3.10/dist-packages (from matplotlib->roboflow) (4.53.0)\n",
            "Requirement already satisfied: packaging>=20.0 in /usr/local/lib/python3.10/dist-packages (from matplotlib->roboflow) (24.1)\n",
            "Requirement already satisfied: pyparsing>=2.3.1 in /usr/local/lib/python3.10/dist-packages (from matplotlib->roboflow) (3.1.2)\n",
            "Requirement already satisfied: charset-normalizer<4,>=2 in /usr/local/lib/python3.10/dist-packages (from requests->roboflow) (3.3.2)\n",
            "loading Roboflow workspace...\n",
            "loading Roboflow project...\n"
          ]
        },
        {
          "output_type": "stream",
          "name": "stderr",
          "text": [
            "Downloading Dataset Version Zip in tennis-ball-detection-6 to yolov5pytorch:: 100%|██████████| 52040/52040 [00:02<00:00, 18617.00it/s]"
          ]
        },
        {
          "output_type": "stream",
          "name": "stdout",
          "text": [
            "\n"
          ]
        },
        {
          "output_type": "stream",
          "name": "stderr",
          "text": [
            "\n",
            "Extracting Dataset Version Zip to tennis-ball-detection-6 in yolov5pytorch:: 100%|██████████| 1168/1168 [00:00<00:00, 4699.82it/s]\n"
          ]
        }
      ]
    },
    {
      "cell_type": "code",
      "source": [
        "%cd {HOME}\n",
        "\n",
        "!yolo task=detect mode=train model=yolov8s.pt data={dataset.location}/data.yaml epochs=25 imgsz=800 plots=True"
      ],
      "metadata": {
        "colab": {
          "base_uri": "https://localhost:8080/"
        },
        "id": "3bz8gfhdx0hN",
        "outputId": "7c44765e-90eb-48d9-99e2-8bf20f67f8f3"
      },
      "execution_count": 2,
      "outputs": [
        {
          "output_type": "stream",
          "name": "stdout",
          "text": [
            "[Errno 2] No such file or directory: '{HOME}'\n",
            "/content\n",
            "Downloading https://github.com/ultralytics/assets/releases/download/v0.0.0/yolov8s.pt to 'yolov8s.pt'...\n",
            "100% 21.5M/21.5M [00:00<00:00, 301MB/s]\n",
            "New https://pypi.org/project/ultralytics/8.2.36 available 😃 Update with 'pip install -U ultralytics'\n",
            "Ultralytics YOLOv8.0.196 🚀 Python-3.10.12 torch-2.3.0+cu121 CUDA:0 (Tesla T4, 15102MiB)\n",
            "\u001b[34m\u001b[1mengine/trainer: \u001b[0mtask=detect, mode=train, model=yolov8s.pt, data=/content/tennis-ball-detection-6/data.yaml, epochs=25, patience=50, batch=16, imgsz=800, save=True, save_period=-1, cache=False, device=None, workers=8, project=None, name=None, exist_ok=False, pretrained=True, optimizer=auto, verbose=True, seed=0, deterministic=True, single_cls=False, rect=False, cos_lr=False, close_mosaic=10, resume=False, amp=True, fraction=1.0, profile=False, freeze=None, overlap_mask=True, mask_ratio=4, dropout=0.0, val=True, split=val, save_json=False, save_hybrid=False, conf=None, iou=0.7, max_det=300, half=False, dnn=False, plots=True, source=None, show=False, save_txt=False, save_conf=False, save_crop=False, show_labels=True, show_conf=True, vid_stride=1, stream_buffer=False, line_width=None, visualize=False, augment=False, agnostic_nms=False, classes=None, retina_masks=False, boxes=True, format=torchscript, keras=False, optimize=False, int8=False, dynamic=False, simplify=False, opset=None, workspace=4, nms=False, lr0=0.01, lrf=0.01, momentum=0.937, weight_decay=0.0005, warmup_epochs=3.0, warmup_momentum=0.8, warmup_bias_lr=0.1, box=7.5, cls=0.5, dfl=1.5, pose=12.0, kobj=1.0, label_smoothing=0.0, nbs=64, hsv_h=0.015, hsv_s=0.7, hsv_v=0.4, degrees=0.0, translate=0.1, scale=0.5, shear=0.0, perspective=0.0, flipud=0.0, fliplr=0.5, mosaic=1.0, mixup=0.0, copy_paste=0.0, cfg=None, tracker=botsort.yaml, save_dir=runs/detect/train\n",
            "Downloading https://ultralytics.com/assets/Arial.ttf to '/root/.config/Ultralytics/Arial.ttf'...\n",
            "100% 755k/755k [00:00<00:00, 37.4MB/s]\n",
            "2024-06-20 08:35:24.909785: E external/local_xla/xla/stream_executor/cuda/cuda_dnn.cc:9261] Unable to register cuDNN factory: Attempting to register factory for plugin cuDNN when one has already been registered\n",
            "2024-06-20 08:35:24.909841: E external/local_xla/xla/stream_executor/cuda/cuda_fft.cc:607] Unable to register cuFFT factory: Attempting to register factory for plugin cuFFT when one has already been registered\n",
            "2024-06-20 08:35:25.033584: E external/local_xla/xla/stream_executor/cuda/cuda_blas.cc:1515] Unable to register cuBLAS factory: Attempting to register factory for plugin cuBLAS when one has already been registered\n",
            "Overriding model.yaml nc=80 with nc=1\n",
            "\n",
            "                   from  n    params  module                                       arguments                     \n",
            "  0                  -1  1       928  ultralytics.nn.modules.conv.Conv             [3, 32, 3, 2]                 \n",
            "  1                  -1  1     18560  ultralytics.nn.modules.conv.Conv             [32, 64, 3, 2]                \n",
            "  2                  -1  1     29056  ultralytics.nn.modules.block.C2f             [64, 64, 1, True]             \n",
            "  3                  -1  1     73984  ultralytics.nn.modules.conv.Conv             [64, 128, 3, 2]               \n",
            "  4                  -1  2    197632  ultralytics.nn.modules.block.C2f             [128, 128, 2, True]           \n",
            "  5                  -1  1    295424  ultralytics.nn.modules.conv.Conv             [128, 256, 3, 2]              \n",
            "  6                  -1  2    788480  ultralytics.nn.modules.block.C2f             [256, 256, 2, True]           \n",
            "  7                  -1  1   1180672  ultralytics.nn.modules.conv.Conv             [256, 512, 3, 2]              \n",
            "  8                  -1  1   1838080  ultralytics.nn.modules.block.C2f             [512, 512, 1, True]           \n",
            "  9                  -1  1    656896  ultralytics.nn.modules.block.SPPF            [512, 512, 5]                 \n",
            " 10                  -1  1         0  torch.nn.modules.upsampling.Upsample         [None, 2, 'nearest']          \n",
            " 11             [-1, 6]  1         0  ultralytics.nn.modules.conv.Concat           [1]                           \n",
            " 12                  -1  1    591360  ultralytics.nn.modules.block.C2f             [768, 256, 1]                 \n",
            " 13                  -1  1         0  torch.nn.modules.upsampling.Upsample         [None, 2, 'nearest']          \n",
            " 14             [-1, 4]  1         0  ultralytics.nn.modules.conv.Concat           [1]                           \n",
            " 15                  -1  1    148224  ultralytics.nn.modules.block.C2f             [384, 128, 1]                 \n",
            " 16                  -1  1    147712  ultralytics.nn.modules.conv.Conv             [128, 128, 3, 2]              \n",
            " 17            [-1, 12]  1         0  ultralytics.nn.modules.conv.Concat           [1]                           \n",
            " 18                  -1  1    493056  ultralytics.nn.modules.block.C2f             [384, 256, 1]                 \n",
            " 19                  -1  1    590336  ultralytics.nn.modules.conv.Conv             [256, 256, 3, 2]              \n",
            " 20             [-1, 9]  1         0  ultralytics.nn.modules.conv.Concat           [1]                           \n",
            " 21                  -1  1   1969152  ultralytics.nn.modules.block.C2f             [768, 512, 1]                 \n",
            " 22        [15, 18, 21]  1   2116435  ultralytics.nn.modules.head.Detect           [1, [128, 256, 512]]          \n",
            "Model summary: 225 layers, 11135987 parameters, 11135971 gradients, 28.6 GFLOPs\n",
            "\n",
            "Transferred 349/355 items from pretrained weights\n",
            "\u001b[34m\u001b[1mTensorBoard: \u001b[0mStart with 'tensorboard --logdir runs/detect/train', view at http://localhost:6006/\n",
            "Freezing layer 'model.22.dfl.conv.weight'\n",
            "\u001b[34m\u001b[1mAMP: \u001b[0mrunning Automatic Mixed Precision (AMP) checks with YOLOv8n...\n",
            "Downloading https://github.com/ultralytics/assets/releases/download/v0.0.0/yolov8n.pt to 'yolov8n.pt'...\n",
            "100% 6.23M/6.23M [00:00<00:00, 177MB/s]\n",
            "/usr/local/lib/python3.10/dist-packages/torch/nn/modules/conv.py:456: UserWarning: Plan failed with a cudnnException: CUDNN_BACKEND_EXECUTION_PLAN_DESCRIPTOR: cudnnFinalize Descriptor Failed cudnn_status: CUDNN_STATUS_NOT_SUPPORTED (Triggered internally at ../aten/src/ATen/native/cudnn/Conv_v8.cpp:919.)\n",
            "  return F.conv2d(input, weight, bias, self.stride,\n",
            "WARNING ⚠️ NMS time limit 0.550s exceeded\n",
            "\u001b[34m\u001b[1mAMP: \u001b[0mchecks passed ✅\n",
            "\u001b[34m\u001b[1mtrain: \u001b[0mScanning /content/tennis-ball-detection-6/train/labels... 428 images, 2 backgrounds, 0 corrupt: 100% 428/428 [00:00<00:00, 1860.01it/s]\n",
            "\u001b[34m\u001b[1mtrain: \u001b[0mNew cache created: /content/tennis-ball-detection-6/train/labels.cache\n",
            "\u001b[34m\u001b[1malbumentations: \u001b[0mBlur(p=0.01, blur_limit=(3, 7)), MedianBlur(p=0.01, blur_limit=(3, 7)), ToGray(p=0.01), CLAHE(p=0.01, clip_limit=(1, 4.0), tile_grid_size=(8, 8))\n",
            "/usr/lib/python3.10/multiprocessing/popen_fork.py:66: RuntimeWarning: os.fork() was called. os.fork() is incompatible with multithreaded code, and JAX is multithreaded, so this will likely lead to a deadlock.\n",
            "  self.pid = os.fork()\n",
            "\u001b[34m\u001b[1mval: \u001b[0mScanning /content/tennis-ball-detection-6/valid/labels... 100 images, 0 backgrounds, 0 corrupt: 100% 100/100 [00:00<00:00, 1442.06it/s]\n",
            "\u001b[34m\u001b[1mval: \u001b[0mNew cache created: /content/tennis-ball-detection-6/valid/labels.cache\n",
            "Plotting labels to runs/detect/train/labels.jpg... \n",
            "\u001b[34m\u001b[1moptimizer:\u001b[0m 'optimizer=auto' found, ignoring 'lr0=0.01' and 'momentum=0.937' and determining best 'optimizer', 'lr0' and 'momentum' automatically... \n",
            "\u001b[34m\u001b[1moptimizer:\u001b[0m AdamW(lr=0.002, momentum=0.9) with parameter groups 57 weight(decay=0.0), 64 weight(decay=0.0005), 63 bias(decay=0.0)\n",
            "Image sizes 800 train, 800 val\n",
            "Using 2 dataloader workers\n",
            "Logging results to \u001b[1mruns/detect/train\u001b[0m\n",
            "Starting training for 25 epochs...\n",
            "\n",
            "      Epoch    GPU_mem   box_loss   cls_loss   dfl_loss  Instances       Size\n",
            "       1/25      6.19G      3.101      151.9      1.022         19        800: 100% 27/27 [00:21<00:00,  1.27it/s]\n",
            "                 Class     Images  Instances      Box(P          R      mAP50  mAP50-95): 100% 4/4 [00:06<00:00,  1.52s/it]\n",
            "                   all        100        101    0.00455      0.158    0.00132   0.000268\n",
            "\n",
            "      Epoch    GPU_mem   box_loss   cls_loss   dfl_loss  Instances       Size\n",
            "       2/25      6.44G      3.133      7.282     0.9905         15        800: 100% 27/27 [00:18<00:00,  1.49it/s]\n",
            "                 Class     Images  Instances      Box(P          R      mAP50  mAP50-95): 100% 4/4 [00:02<00:00,  1.82it/s]\n",
            "                   all        100        101     0.0344      0.149     0.0146    0.00387\n",
            "\n",
            "      Epoch    GPU_mem   box_loss   cls_loss   dfl_loss  Instances       Size\n",
            "       3/25      6.44G      2.996      2.665     0.9586         22        800: 100% 27/27 [00:17<00:00,  1.54it/s]\n",
            "                 Class     Images  Instances      Box(P          R      mAP50  mAP50-95): 100% 4/4 [00:02<00:00,  1.90it/s]\n",
            "                   all        100        101     0.0018     0.0495   0.000952   0.000433\n",
            "\n",
            "      Epoch    GPU_mem   box_loss   cls_loss   dfl_loss  Instances       Size\n",
            "       4/25      6.44G      2.924      2.128     0.9485         19        800: 100% 27/27 [00:17<00:00,  1.55it/s]\n",
            "                 Class     Images  Instances      Box(P          R      mAP50  mAP50-95): 100% 4/4 [00:02<00:00,  1.98it/s]\n",
            "                   all        100        101     0.0018     0.0495   0.000952   0.000433\n",
            "\n",
            "      Epoch    GPU_mem   box_loss   cls_loss   dfl_loss  Instances       Size\n",
            "       5/25      6.44G      3.048      1.906     0.9569         21        800: 100% 27/27 [00:18<00:00,  1.49it/s]\n",
            "                 Class     Images  Instances      Box(P          R      mAP50  mAP50-95): 100% 4/4 [00:01<00:00,  2.18it/s]\n",
            "                   all        100        101    0.00483     0.0099    0.00246   0.000246\n",
            "\n",
            "      Epoch    GPU_mem   box_loss   cls_loss   dfl_loss  Instances       Size\n",
            "       6/25      6.45G      3.095      2.015     0.9639         19        800: 100% 27/27 [00:17<00:00,  1.53it/s]\n",
            "                 Class     Images  Instances      Box(P          R      mAP50  mAP50-95): 100% 4/4 [00:01<00:00,  2.01it/s]\n",
            "                   all        100        101    0.00159     0.0792   0.000729   0.000202\n",
            "\n",
            "      Epoch    GPU_mem   box_loss   cls_loss   dfl_loss  Instances       Size\n",
            "       7/25      6.44G      2.752      1.696     0.9182         23        800: 100% 27/27 [00:17<00:00,  1.58it/s]\n",
            "                 Class     Images  Instances      Box(P          R      mAP50  mAP50-95): 100% 4/4 [00:01<00:00,  2.14it/s]\n",
            "                   all        100        101      0.542      0.218      0.197     0.0717\n",
            "\n",
            "      Epoch    GPU_mem   box_loss   cls_loss   dfl_loss  Instances       Size\n",
            "       8/25      6.45G       2.53       1.49     0.8859         29        800: 100% 27/27 [00:17<00:00,  1.55it/s]\n",
            "                 Class     Images  Instances      Box(P          R      mAP50  mAP50-95): 100% 4/4 [00:01<00:00,  2.03it/s]\n",
            "                   all        100        101      0.715      0.535        0.6      0.191\n",
            "\n",
            "      Epoch    GPU_mem   box_loss   cls_loss   dfl_loss  Instances       Size\n",
            "       9/25      6.44G       2.69      1.526     0.9176         20        800: 100% 27/27 [00:16<00:00,  1.61it/s]\n",
            "                 Class     Images  Instances      Box(P          R      mAP50  mAP50-95): 100% 4/4 [00:02<00:00,  1.41it/s]\n",
            "                   all        100        101      0.766      0.545      0.574      0.176\n",
            "\n",
            "      Epoch    GPU_mem   box_loss   cls_loss   dfl_loss  Instances       Size\n",
            "      10/25      6.45G       2.59      1.557     0.8962         18        800: 100% 27/27 [00:16<00:00,  1.68it/s]\n",
            "                 Class     Images  Instances      Box(P          R      mAP50  mAP50-95): 100% 4/4 [00:03<00:00,  1.18it/s]\n",
            "                   all        100        101     0.0577      0.317     0.0392     0.0117\n",
            "\n",
            "      Epoch    GPU_mem   box_loss   cls_loss   dfl_loss  Instances       Size\n",
            "      11/25      6.44G        2.5      1.525     0.9003         21        800: 100% 27/27 [00:15<00:00,  1.76it/s]\n",
            "                 Class     Images  Instances      Box(P          R      mAP50  mAP50-95): 100% 4/4 [00:03<00:00,  1.32it/s]\n",
            "                   all        100        101      0.661       0.52      0.547      0.169\n",
            "\n",
            "      Epoch    GPU_mem   box_loss   cls_loss   dfl_loss  Instances       Size\n",
            "      12/25      6.28G      2.403      1.382     0.9071         26        800: 100% 27/27 [00:14<00:00,  1.82it/s]\n",
            "                 Class     Images  Instances      Box(P          R      mAP50  mAP50-95): 100% 4/4 [00:03<00:00,  1.25it/s]\n",
            "                   all        100        101      0.744      0.564      0.668      0.208\n",
            "\n",
            "      Epoch    GPU_mem   box_loss   cls_loss   dfl_loss  Instances       Size\n",
            "      13/25      6.44G      2.437      1.254     0.8857         27        800: 100% 27/27 [00:15<00:00,  1.69it/s]\n",
            "                 Class     Images  Instances      Box(P          R      mAP50  mAP50-95): 100% 4/4 [00:02<00:00,  1.68it/s]\n",
            "                   all        100        101      0.843      0.477      0.606      0.222\n",
            "\n",
            "      Epoch    GPU_mem   box_loss   cls_loss   dfl_loss  Instances       Size\n",
            "      14/25      6.44G      2.481      1.289     0.9017         21        800: 100% 27/27 [00:16<00:00,  1.60it/s]\n",
            "                 Class     Images  Instances      Box(P          R      mAP50  mAP50-95): 100% 4/4 [00:02<00:00,  1.96it/s]\n",
            "                   all        100        101      0.343      0.465      0.269        0.1\n",
            "\n",
            "      Epoch    GPU_mem   box_loss   cls_loss   dfl_loss  Instances       Size\n",
            "      15/25      6.43G      2.421      1.318     0.8876         14        800: 100% 27/27 [00:16<00:00,  1.64it/s]\n",
            "                 Class     Images  Instances      Box(P          R      mAP50  mAP50-95): 100% 4/4 [00:01<00:00,  2.10it/s]\n",
            "                   all        100        101      0.718      0.673      0.679      0.258\n",
            "Closing dataloader mosaic\n",
            "\u001b[34m\u001b[1malbumentations: \u001b[0mBlur(p=0.01, blur_limit=(3, 7)), MedianBlur(p=0.01, blur_limit=(3, 7)), ToGray(p=0.01), CLAHE(p=0.01, clip_limit=(1, 4.0), tile_grid_size=(8, 8))\n",
            "/usr/lib/python3.10/multiprocessing/popen_fork.py:66: RuntimeWarning: os.fork() was called. os.fork() is incompatible with multithreaded code, and JAX is multithreaded, so this will likely lead to a deadlock.\n",
            "  self.pid = os.fork()\n",
            "\n",
            "      Epoch    GPU_mem   box_loss   cls_loss   dfl_loss  Instances       Size\n",
            "      16/25      6.29G      2.442      1.378     0.8967         12        800: 100% 27/27 [00:18<00:00,  1.44it/s]\n",
            "                 Class     Images  Instances      Box(P          R      mAP50  mAP50-95): 100% 4/4 [00:01<00:00,  2.35it/s]\n",
            "                   all        100        101      0.199      0.584      0.154     0.0622\n",
            "\n",
            "      Epoch    GPU_mem   box_loss   cls_loss   dfl_loss  Instances       Size\n",
            "      17/25      6.44G      2.337      1.244     0.8755         12        800: 100% 27/27 [00:17<00:00,  1.57it/s]\n",
            "                 Class     Images  Instances      Box(P          R      mAP50  mAP50-95): 100% 4/4 [00:01<00:00,  2.19it/s]\n",
            "                   all        100        101      0.809      0.644      0.675      0.227\n",
            "\n",
            "      Epoch    GPU_mem   box_loss   cls_loss   dfl_loss  Instances       Size\n",
            "      18/25      6.45G      2.248      1.221     0.8872         12        800: 100% 27/27 [00:17<00:00,  1.58it/s]\n",
            "                 Class     Images  Instances      Box(P          R      mAP50  mAP50-95): 100% 4/4 [00:01<00:00,  2.18it/s]\n",
            "                   all        100        101      0.745      0.653      0.678      0.248\n",
            "\n",
            "      Epoch    GPU_mem   box_loss   cls_loss   dfl_loss  Instances       Size\n",
            "      19/25      6.45G      2.115      1.106     0.8809         12        800: 100% 27/27 [00:16<00:00,  1.63it/s]\n",
            "                 Class     Images  Instances      Box(P          R      mAP50  mAP50-95): 100% 4/4 [00:01<00:00,  2.26it/s]\n",
            "                   all        100        101      0.697      0.591      0.646      0.246\n",
            "\n",
            "      Epoch    GPU_mem   box_loss   cls_loss   dfl_loss  Instances       Size\n",
            "      20/25      6.27G      2.091      1.061     0.8751         12        800: 100% 27/27 [00:17<00:00,  1.58it/s]\n",
            "                 Class     Images  Instances      Box(P          R      mAP50  mAP50-95): 100% 4/4 [00:01<00:00,  2.23it/s]\n",
            "                   all        100        101      0.157      0.505      0.127     0.0486\n",
            "\n",
            "      Epoch    GPU_mem   box_loss   cls_loss   dfl_loss  Instances       Size\n",
            "      21/25      6.44G      2.148      1.081     0.8955         12        800: 100% 27/27 [00:16<00:00,  1.60it/s]\n",
            "                 Class     Images  Instances      Box(P          R      mAP50  mAP50-95): 100% 4/4 [00:01<00:00,  2.19it/s]\n",
            "                   all        100        101      0.842      0.594      0.707      0.292\n",
            "\n",
            "      Epoch    GPU_mem   box_loss   cls_loss   dfl_loss  Instances       Size\n",
            "      22/25       6.2G      2.224      1.161     0.8894         12        800: 100% 27/27 [00:17<00:00,  1.53it/s]\n",
            "                 Class     Images  Instances      Box(P          R      mAP50  mAP50-95): 100% 4/4 [00:01<00:00,  2.45it/s]\n",
            "                   all        100        101      0.758      0.558       0.62      0.254\n",
            "\n",
            "      Epoch    GPU_mem   box_loss   cls_loss   dfl_loss  Instances       Size\n",
            "      23/25      6.45G      2.078      1.098     0.8666         12        800: 100% 27/27 [00:17<00:00,  1.59it/s]\n",
            "                 Class     Images  Instances      Box(P          R      mAP50  mAP50-95): 100% 4/4 [00:01<00:00,  2.20it/s]\n",
            "                   all        100        101      0.675      0.604      0.659      0.247\n",
            "\n",
            "      Epoch    GPU_mem   box_loss   cls_loss   dfl_loss  Instances       Size\n",
            "      24/25      6.28G      2.077     0.9994     0.8661         12        800: 100% 27/27 [00:17<00:00,  1.53it/s]\n",
            "                 Class     Images  Instances      Box(P          R      mAP50  mAP50-95): 100% 4/4 [00:02<00:00,  1.86it/s]\n",
            "                   all        100        101      0.732      0.584      0.631      0.222\n",
            "\n",
            "      Epoch    GPU_mem   box_loss   cls_loss   dfl_loss  Instances       Size\n",
            "      25/25      6.44G       2.04     0.9907     0.8785         12        800: 100% 27/27 [00:17<00:00,  1.55it/s]\n",
            "                 Class     Images  Instances      Box(P          R      mAP50  mAP50-95): 100% 4/4 [00:01<00:00,  2.06it/s]\n",
            "                   all        100        101      0.744      0.603      0.685      0.306\n",
            "\n",
            "25 epochs completed in 0.148 hours.\n",
            "Optimizer stripped from runs/detect/train/weights/last.pt, 22.5MB\n",
            "Optimizer stripped from runs/detect/train/weights/best.pt, 22.5MB\n",
            "\n",
            "Validating runs/detect/train/weights/best.pt...\n",
            "Ultralytics YOLOv8.0.196 🚀 Python-3.10.12 torch-2.3.0+cu121 CUDA:0 (Tesla T4, 15102MiB)\n",
            "Model summary (fused): 168 layers, 11125971 parameters, 0 gradients, 28.4 GFLOPs\n",
            "                 Class     Images  Instances      Box(P          R      mAP50  mAP50-95): 100% 4/4 [00:03<00:00,  1.17it/s]\n",
            "                   all        100        101      0.744      0.604      0.685      0.308\n",
            "Speed: 0.3ms preprocess, 4.9ms inference, 0.0ms loss, 5.4ms postprocess per image\n",
            "Results saved to \u001b[1mruns/detect/train\u001b[0m\n",
            "💡 Learn more at https://docs.ultralytics.com/modes/train\n"
          ]
        }
      ]
    },
    {
      "cell_type": "code",
      "source": [
        "!yolo task=detect mode=val model=runs/detect/train/weights/best.pt data={dataset.location}/data.yaml"
      ],
      "metadata": {
        "colab": {
          "base_uri": "https://localhost:8080/"
        },
        "id": "_Hn46H2zySB8",
        "outputId": "568b985f-3852-487d-c22a-4cc637824be9"
      },
      "execution_count": 5,
      "outputs": [
        {
          "output_type": "stream",
          "name": "stdout",
          "text": [
            "Ultralytics YOLOv8.0.196 🚀 Python-3.10.12 torch-2.3.0+cu121 CUDA:0 (Tesla T4, 15102MiB)\n",
            "Model summary (fused): 168 layers, 11125971 parameters, 0 gradients, 28.4 GFLOPs\n",
            "\u001b[34m\u001b[1mval: \u001b[0mScanning /content/tennis-ball-detection-6/valid/labels.cache... 100 images, 0 backgrounds, 0 corrupt: 100% 100/100 [00:00<?, ?it/s]\n",
            "                 Class     Images  Instances      Box(P          R      mAP50  mAP50-95): 100% 7/7 [00:05<00:00,  1.19it/s]\n",
            "                   all        100        101      0.765      0.579      0.688       0.31\n",
            "Speed: 6.3ms preprocess, 15.9ms inference, 0.0ms loss, 11.5ms postprocess per image\n",
            "Results saved to \u001b[1mruns/detect/val\u001b[0m\n",
            "💡 Learn more at https://docs.ultralytics.com/modes/val\n"
          ]
        }
      ]
    },
    {
      "cell_type": "code",
      "source": [
        "!yolo task=detect mode=predict model=runs/detect/train/weights/best.pt conf=0.25 source={dataset.location}/test/images save=True"
      ],
      "metadata": {
        "colab": {
          "base_uri": "https://localhost:8080/"
        },
        "id": "9pDuZ94WykcD",
        "outputId": "9b6e2054-8b60-451c-dc86-362d540dfb4e"
      },
      "execution_count": 7,
      "outputs": [
        {
          "output_type": "stream",
          "name": "stdout",
          "text": [
            "Ultralytics YOLOv8.0.196 🚀 Python-3.10.12 torch-2.3.0+cu121 CUDA:0 (Tesla T4, 15102MiB)\n",
            "Model summary (fused): 168 layers, 11125971 parameters, 0 gradients, 28.4 GFLOPs\n",
            "\n",
            "image 1/50 /content/tennis-ball-detection-6/test/images/synframe101_jpg.rf.1f308718bf44dcb6dd10e32ce9fc6cd5.jpg: 480x800 (no detections), 105.3ms\n",
            "image 2/50 /content/tennis-ball-detection-6/test/images/synframe119_jpg.rf.86ddef4b7c7c996344879b9f79c46ddf.jpg: 480x800 (no detections), 15.6ms\n",
            "image 3/50 /content/tennis-ball-detection-6/test/images/synframe122_jpg.rf.9f84517312ec31ca29cfd1b828dfe647.jpg: 480x800 1 tennis ball, 15.6ms\n",
            "image 4/50 /content/tennis-ball-detection-6/test/images/synframe1247_jpg.rf.f1141dda575c60eeb4b7a29a583c1afa.jpg: 480x800 (no detections), 15.6ms\n",
            "image 5/50 /content/tennis-ball-detection-6/test/images/synframe136_jpg.rf.750bbb8f3e5d2922a3b9c2758a1b4ac2.jpg: 480x800 (no detections), 15.6ms\n",
            "image 6/50 /content/tennis-ball-detection-6/test/images/synframe151_jpg.rf.73b75aa9ccab962d663e0b3d17cb0bbf.jpg: 480x800 (no detections), 15.6ms\n",
            "image 7/50 /content/tennis-ball-detection-6/test/images/synframe153_jpg.rf.0e01c7cc802cff779c427c327bdd5419.jpg: 480x800 (no detections), 15.6ms\n",
            "image 8/50 /content/tennis-ball-detection-6/test/images/synframe348_jpg.rf.e9e3f0e971cd595dc78dec19b574d53c.jpg: 480x800 1 tennis ball, 15.6ms\n",
            "image 9/50 /content/tennis-ball-detection-6/test/images/synframe353_jpg.rf.926c3fa40f1e7b4fd5682849aa9cebb3.jpg: 480x800 1 tennis ball, 15.6ms\n",
            "image 10/50 /content/tennis-ball-detection-6/test/images/synframe381_jpg.rf.8a20d00c58388526130dc61757296537.jpg: 480x800 (no detections), 15.6ms\n",
            "image 11/50 /content/tennis-ball-detection-6/test/images/synframe384_jpg.rf.7c627687a800348211711b0338d6b4dd.jpg: 480x800 (no detections), 15.6ms\n",
            "image 12/50 /content/tennis-ball-detection-6/test/images/synframe388_jpg.rf.103cd8e25db070a9cb7fb49aa097a424.jpg: 480x800 (no detections), 15.6ms\n",
            "image 13/50 /content/tennis-ball-detection-6/test/images/synframe390_jpg.rf.7d23fb7c5da4e4913300bd28970a3ab9.jpg: 480x800 (no detections), 15.6ms\n",
            "image 14/50 /content/tennis-ball-detection-6/test/images/synframe401_jpg.rf.4d16d748c989a18b81ef6615372c4d27.jpg: 480x800 (no detections), 15.6ms\n",
            "image 15/50 /content/tennis-ball-detection-6/test/images/synframe404_jpg.rf.8b6dbcbd6a3e5cebf0400a77f30afe9e.jpg: 480x800 (no detections), 15.6ms\n",
            "image 16/50 /content/tennis-ball-detection-6/test/images/synframe410_jpg.rf.d276ef3a46e253a4b33e7d2eb52edfc8.jpg: 480x800 (no detections), 15.7ms\n",
            "image 17/50 /content/tennis-ball-detection-6/test/images/synframe421_jpg.rf.b592641f9878314acbdc5b7889004c79.jpg: 480x800 (no detections), 15.6ms\n",
            "image 18/50 /content/tennis-ball-detection-6/test/images/synframe430_jpg.rf.033568f9ce80fc386b5eef75dab005d8.jpg: 480x800 (no detections), 15.7ms\n",
            "image 19/50 /content/tennis-ball-detection-6/test/images/synframe450_jpg.rf.05b6c94b0ed21d283c64fbe1802d7ab9.jpg: 480x800 1 tennis ball, 15.6ms\n",
            "image 20/50 /content/tennis-ball-detection-6/test/images/synframe456_jpg.rf.68cedc662d85a16f51d287593219cead.jpg: 480x800 1 tennis ball, 15.6ms\n",
            "image 21/50 /content/tennis-ball-detection-6/test/images/synframe46_jpg.rf.75602e5cd9aed10a6ef72a79194eeb87.jpg: 480x800 (no detections), 15.6ms\n",
            "image 22/50 /content/tennis-ball-detection-6/test/images/synframe486_jpg.rf.17d3c275cf72042ac409076b69193de0.jpg: 480x800 1 tennis ball, 15.7ms\n",
            "image 23/50 /content/tennis-ball-detection-6/test/images/synframe491_jpg.rf.d95e7e7d5b60203ebb2df177a3e769d4.jpg: 480x800 (no detections), 15.6ms\n",
            "image 24/50 /content/tennis-ball-detection-6/test/images/synframe496_jpg.rf.460cac03011a9cf2bc65839cd9d4d8e3.jpg: 480x800 (no detections), 15.6ms\n",
            "image 25/50 /content/tennis-ball-detection-6/test/images/synframe498_jpg.rf.39003c420210b0a9aa7265e0dd31dd41.jpg: 480x800 1 tennis ball, 15.6ms\n",
            "image 26/50 /content/tennis-ball-detection-6/test/images/synframe501_jpg.rf.815b4ac956196ed9b82b8dd3fce1ae12.jpg: 480x800 (no detections), 15.6ms\n",
            "image 27/50 /content/tennis-ball-detection-6/test/images/synframe510_jpg.rf.7a46f343928b17f43db89df4dacddd00.jpg: 480x800 (no detections), 15.6ms\n",
            "image 28/50 /content/tennis-ball-detection-6/test/images/synframe525_jpg.rf.80de3c817568c67ba6cda200b7c04316.jpg: 480x800 1 tennis ball, 15.6ms\n",
            "image 29/50 /content/tennis-ball-detection-6/test/images/synframe531_jpg.rf.f8af714c2fb07cfc12a81da48f5c370e.jpg: 480x800 1 tennis ball, 15.6ms\n",
            "image 30/50 /content/tennis-ball-detection-6/test/images/synframe539_jpg.rf.790ce2d767282119e2091f1cdd997538.jpg: 480x800 (no detections), 15.6ms\n",
            "image 31/50 /content/tennis-ball-detection-6/test/images/synframe55_jpg.rf.588c0225adfdf989be49652f18fcec6e.jpg: 480x800 1 tennis ball, 15.6ms\n",
            "image 32/50 /content/tennis-ball-detection-6/test/images/synframe560_jpg.rf.80c2cbf4c32358249b45345e6cc6b3b9.jpg: 480x800 (no detections), 15.6ms\n",
            "image 33/50 /content/tennis-ball-detection-6/test/images/synframe588_jpg.rf.fb6dd3812fb751d629ef5fbc940fa6a2.jpg: 480x800 1 tennis ball, 15.5ms\n",
            "image 34/50 /content/tennis-ball-detection-6/test/images/synframe590_jpg.rf.3fa7d382c22a46a4230ce017fc878aac.jpg: 480x800 1 tennis ball, 15.6ms\n",
            "image 35/50 /content/tennis-ball-detection-6/test/images/synframe608_jpg.rf.df8c3269fe89fd4852ae871940373a12.jpg: 480x800 1 tennis ball, 15.6ms\n",
            "image 36/50 /content/tennis-ball-detection-6/test/images/synframe618_jpg.rf.350bfb14bfb37d8f1b8956b0535f7662.jpg: 480x800 1 tennis ball, 15.6ms\n",
            "image 37/50 /content/tennis-ball-detection-6/test/images/synframe619_jpg.rf.b1b953669baa072b608686aceb8ac0c7.jpg: 480x800 1 tennis ball, 15.5ms\n",
            "image 38/50 /content/tennis-ball-detection-6/test/images/synframe631_jpg.rf.3e3f16f6e5c89b39d99d6be83a19ce2a.jpg: 480x800 1 tennis ball, 15.6ms\n",
            "image 39/50 /content/tennis-ball-detection-6/test/images/synframe650_jpg.rf.db92050b958f2e708032af4a71ecc0fe.jpg: 480x800 (no detections), 15.6ms\n",
            "image 40/50 /content/tennis-ball-detection-6/test/images/synframe770_jpg.rf.bcdb5968a3f2092bfbd7fff339b5ca7a.jpg: 480x800 (no detections), 15.6ms\n",
            "image 41/50 /content/tennis-ball-detection-6/test/images/synframe779_jpg.rf.a1aa5175ca6d8b28a43c6e1fd4bd0980.jpg: 480x800 1 tennis ball, 15.6ms\n",
            "image 42/50 /content/tennis-ball-detection-6/test/images/synframe803_jpg.rf.e73f5af9705d435f39a41496ec056dd6.jpg: 480x800 1 tennis ball, 15.6ms\n",
            "image 43/50 /content/tennis-ball-detection-6/test/images/synframe807_jpg.rf.272988e0eed90104a9d2f243bfac0d63.jpg: 480x800 1 tennis ball, 15.6ms\n",
            "image 44/50 /content/tennis-ball-detection-6/test/images/synframe99_jpg.rf.3823fb2e88b312d9ad1d67f56d705adc.jpg: 480x800 (no detections), 15.6ms\n",
            "image 45/50 /content/tennis-ball-detection-6/test/images/synthetic1379_jpg.rf.2ff1553dc09474c4a10cdb9d7078e213.jpg: 480x800 1 tennis ball, 15.5ms\n",
            "image 46/50 /content/tennis-ball-detection-6/test/images/synthetic1400_jpg.rf.1cbc42e6a6db0504eb706e8a0a6e4b8b.jpg: 480x800 (no detections), 15.6ms\n",
            "image 47/50 /content/tennis-ball-detection-6/test/images/synthetic1410_jpg.rf.ed5f0f3daa458371a05d0951738ebf15.jpg: 480x800 1 tennis ball, 15.6ms\n",
            "image 48/50 /content/tennis-ball-detection-6/test/images/synthetic1434_jpg.rf.de1e5c33911e139b8817e75084f67f1d.jpg: 480x800 (no detections), 15.5ms\n",
            "image 49/50 /content/tennis-ball-detection-6/test/images/synthetic1442_jpg.rf.df9f632e133b585951acbca71ace7e85.jpg: 480x800 1 tennis ball, 15.6ms\n",
            "image 50/50 /content/tennis-ball-detection-6/test/images/synthetic1450_jpg.rf.e2c0b76fe482dffeba6f004b40416de9.jpg: 480x800 1 tennis ball, 15.6ms\n",
            "Speed: 2.9ms preprocess, 17.4ms inference, 12.1ms postprocess per image at shape (1, 3, 480, 800)\n",
            "Results saved to \u001b[1mruns/detect/predict\u001b[0m\n",
            "💡 Learn more at https://docs.ultralytics.com/modes/predict\n"
          ]
        }
      ]
    }
  ]
}